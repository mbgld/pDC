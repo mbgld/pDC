{
 "cells": [
  {
   "cell_type": "markdown",
   "metadata": {},
   "source": [
    "## FindConservedMarkers: cnv.mk 파일을 분석한다."
   ]
  },
  {
   "cell_type": "code",
   "execution_count": 1,
   "metadata": {},
   "outputs": [],
   "source": [
    "import numpy as np\n",
    "import pandas as pd\n",
    "import webbrowser\n",
    "import re"
   ]
  },
  {
   "cell_type": "markdown",
   "metadata": {},
   "source": [
    "## FindAllMarkers: All.mk 파일을 분석한다"
   ]
  },
  {
   "cell_type": "code",
   "execution_count": 57,
   "metadata": {
    "scrolled": true
   },
   "outputs": [
    {
     "name": "stdout",
     "output_type": "stream",
     "text": [
      "Enter gene name:FSCN1\n",
      "     Row.names  cluster.x  avg_log2FC.x  pct.1.x  pct.2.x  p_val\n",
      "3944     FSCN1         33      0.782372    0.413    0.098    0.0\n"
     ]
    },
    {
     "data": {
      "text/plain": [
       "True"
      ]
     },
     "execution_count": 57,
     "metadata": {},
     "output_type": "execute_result"
    }
   ],
   "source": [
    "df_A = pd.read_csv('./Results/3_Markers/Sim_2_9/YS_Itg_All_mp.tsv', sep = '\\t')\n",
    "df_A\n",
    "\n",
    "Gene = input('Enter gene name:')\n",
    "\n",
    "a = df_A[df_A['Row.names'] == Gene]\n",
    "\n",
    "print(a[['Row.names', 'cluster.x', 'avg_log2FC.x', 'pct.1.x', 'pct.2.x', 'p_val']])\n",
    "\n",
    "webbrowser.open_new('https://www.genecards.org/cgi-bin/carddisp.pl?gene={}#summaries'.format(Gene))\n",
    "webbrowser.open_new('http://yikedaxue.slwshop.cn/search.php?quickSearchInfo={}#framekuang'.format(Gene))"
   ]
  },
  {
   "cell_type": "markdown",
   "metadata": {},
   "source": [
    "## FindMarkers: .mp 파일을 분석한다."
   ]
  },
  {
   "cell_type": "code",
   "execution_count": 55,
   "metadata": {
    "scrolled": false
   },
   "outputs": [
    {
     "name": "stdout",
     "output_type": "stream",
     "text": [
      "Enter the number of cluster: 48\n"
     ]
    },
    {
     "data": {
      "text/html": [
       "<div>\n",
       "<style scoped>\n",
       "    .dataframe tbody tr th:only-of-type {\n",
       "        vertical-align: middle;\n",
       "    }\n",
       "\n",
       "    .dataframe tbody tr th {\n",
       "        vertical-align: top;\n",
       "    }\n",
       "\n",
       "    .dataframe thead th {\n",
       "        text-align: right;\n",
       "    }\n",
       "</style>\n",
       "<table border=\"1\" class=\"dataframe\">\n",
       "  <thead>\n",
       "    <tr style=\"text-align: right;\">\n",
       "      <th></th>\n",
       "      <th>Row.names</th>\n",
       "      <th>avg_log2FC.x</th>\n",
       "      <th>power</th>\n",
       "      <th>pct.1.x</th>\n",
       "      <th>pct.2.x</th>\n",
       "      <th>p_val</th>\n",
       "      <th>p_val_adj</th>\n",
       "    </tr>\n",
       "  </thead>\n",
       "  <tbody>\n",
       "    <tr>\n",
       "      <th>0</th>\n",
       "      <td>CCL17</td>\n",
       "      <td>4.759510</td>\n",
       "      <td>0.574</td>\n",
       "      <td>0.588</td>\n",
       "      <td>0.018</td>\n",
       "      <td>0.000000e+00</td>\n",
       "      <td>0.000000e+00</td>\n",
       "    </tr>\n",
       "    <tr>\n",
       "      <th>1</th>\n",
       "      <td>CCL22</td>\n",
       "      <td>4.104937</td>\n",
       "      <td>0.774</td>\n",
       "      <td>0.778</td>\n",
       "      <td>0.011</td>\n",
       "      <td>0.000000e+00</td>\n",
       "      <td>0.000000e+00</td>\n",
       "    </tr>\n",
       "    <tr>\n",
       "      <th>2</th>\n",
       "      <td>FSCN1</td>\n",
       "      <td>3.621008</td>\n",
       "      <td>0.954</td>\n",
       "      <td>0.969</td>\n",
       "      <td>0.100</td>\n",
       "      <td>0.000000e+00</td>\n",
       "      <td>0.000000e+00</td>\n",
       "    </tr>\n",
       "    <tr>\n",
       "      <th>3</th>\n",
       "      <td>BIRC3</td>\n",
       "      <td>3.412721</td>\n",
       "      <td>0.916</td>\n",
       "      <td>0.995</td>\n",
       "      <td>0.344</td>\n",
       "      <td>3.578651e-149</td>\n",
       "      <td>1.128062e-144</td>\n",
       "    </tr>\n",
       "    <tr>\n",
       "      <th>4</th>\n",
       "      <td>CCR7</td>\n",
       "      <td>3.253208</td>\n",
       "      <td>0.934</td>\n",
       "      <td>0.959</td>\n",
       "      <td>0.052</td>\n",
       "      <td>0.000000e+00</td>\n",
       "      <td>0.000000e+00</td>\n",
       "    </tr>\n",
       "    <tr>\n",
       "      <th>...</th>\n",
       "      <td>...</td>\n",
       "      <td>...</td>\n",
       "      <td>...</td>\n",
       "      <td>...</td>\n",
       "      <td>...</td>\n",
       "      <td>...</td>\n",
       "      <td>...</td>\n",
       "    </tr>\n",
       "    <tr>\n",
       "      <th>807</th>\n",
       "      <td>HMG20B</td>\n",
       "      <td>0.251147</td>\n",
       "      <td>0.204</td>\n",
       "      <td>0.423</td>\n",
       "      <td>0.232</td>\n",
       "      <td>3.742126e-11</td>\n",
       "      <td>1.179593e-06</td>\n",
       "    </tr>\n",
       "    <tr>\n",
       "      <th>808</th>\n",
       "      <td>EMILIN2</td>\n",
       "      <td>0.250982</td>\n",
       "      <td>0.268</td>\n",
       "      <td>0.474</td>\n",
       "      <td>0.201</td>\n",
       "      <td>3.360648e-20</td>\n",
       "      <td>1.059343e-15</td>\n",
       "    </tr>\n",
       "    <tr>\n",
       "      <th>809</th>\n",
       "      <td>APC</td>\n",
       "      <td>0.250655</td>\n",
       "      <td>0.224</td>\n",
       "      <td>0.433</td>\n",
       "      <td>0.222</td>\n",
       "      <td>1.245866e-13</td>\n",
       "      <td>3.927220e-09</td>\n",
       "    </tr>\n",
       "    <tr>\n",
       "      <th>810</th>\n",
       "      <td>RABGAP1</td>\n",
       "      <td>0.250241</td>\n",
       "      <td>0.202</td>\n",
       "      <td>0.366</td>\n",
       "      <td>0.175</td>\n",
       "      <td>2.287476e-13</td>\n",
       "      <td>7.210582e-09</td>\n",
       "    </tr>\n",
       "    <tr>\n",
       "      <th>811</th>\n",
       "      <td>AC007952.4</td>\n",
       "      <td>0.250066</td>\n",
       "      <td>0.232</td>\n",
       "      <td>0.402</td>\n",
       "      <td>0.165</td>\n",
       "      <td>4.270788e-18</td>\n",
       "      <td>1.346238e-13</td>\n",
       "    </tr>\n",
       "  </tbody>\n",
       "</table>\n",
       "<p>791 rows × 7 columns</p>\n",
       "</div>"
      ],
      "text/plain": [
       "      Row.names  avg_log2FC.x  power  pct.1.x  pct.2.x          p_val  \\\n",
       "0         CCL17      4.759510  0.574    0.588    0.018   0.000000e+00   \n",
       "1         CCL22      4.104937  0.774    0.778    0.011   0.000000e+00   \n",
       "2         FSCN1      3.621008  0.954    0.969    0.100   0.000000e+00   \n",
       "3         BIRC3      3.412721  0.916    0.995    0.344  3.578651e-149   \n",
       "4          CCR7      3.253208  0.934    0.959    0.052   0.000000e+00   \n",
       "..          ...           ...    ...      ...      ...            ...   \n",
       "807      HMG20B      0.251147  0.204    0.423    0.232   3.742126e-11   \n",
       "808     EMILIN2      0.250982  0.268    0.474    0.201   3.360648e-20   \n",
       "809         APC      0.250655  0.224    0.433    0.222   1.245866e-13   \n",
       "810     RABGAP1      0.250241  0.202    0.366    0.175   2.287476e-13   \n",
       "811  AC007952.4      0.250066  0.232    0.402    0.165   4.270788e-18   \n",
       "\n",
       "         p_val_adj  \n",
       "0     0.000000e+00  \n",
       "1     0.000000e+00  \n",
       "2     0.000000e+00  \n",
       "3    1.128062e-144  \n",
       "4     0.000000e+00  \n",
       "..             ...  \n",
       "807   1.179593e-06  \n",
       "808   1.059343e-15  \n",
       "809   3.927220e-09  \n",
       "810   7.210582e-09  \n",
       "811   1.346238e-13  \n",
       "\n",
       "[791 rows x 7 columns]"
      ]
     },
     "execution_count": 55,
     "metadata": {},
     "output_type": "execute_result"
    }
   ],
   "source": [
    "cls = input('Enter the number of cluster: ')\n",
    "\n",
    "df_C = pd.read_csv('./Results/3_Markers/Sim_2_9/YS_Itg_{}mp.tsv'.format(cls), sep = '\\t')\n",
    "\n",
    "df_C = df_C[['Row.names', 'avg_log2FC.x', 'power', 'pct.1.x', 'pct.2.x', 'p_val', 'p_val_adj']]\n",
    "df_C = df_C[(df_C['power'] > 0.2) & (df_C['p_val_adj'] < 0.05)]\n",
    "\n",
    "df_C = df_C.sort_values(by = ['avg_log2FC.x', 'power'], ascending = [False, False])\n",
    "df_C\n",
    "\n",
    "# webbrowser.open_new('http://bio-bigdata.hrbmu.edu.cn/CellMarker/')"
   ]
  },
  {
   "cell_type": "code",
   "execution_count": null,
   "metadata": {},
   "outputs": [],
   "source": []
  }
 ],
 "metadata": {
  "kernelspec": {
   "display_name": "Python 3 (ipykernel)",
   "language": "python",
   "name": "python3"
  },
  "language_info": {
   "codemirror_mode": {
    "name": "ipython",
    "version": 3
   },
   "file_extension": ".py",
   "mimetype": "text/x-python",
   "name": "python",
   "nbconvert_exporter": "python",
   "pygments_lexer": "ipython3",
   "version": "3.8.10"
  }
 },
 "nbformat": 4,
 "nbformat_minor": 4
}
