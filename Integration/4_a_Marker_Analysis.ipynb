{
 "cells": [
  {
   "cell_type": "code",
   "execution_count": 1,
   "id": "50aef1a5",
   "metadata": {},
   "outputs": [],
   "source": [
    "# Set-up Environment\n",
    "import pandas as pd\n",
    "import webbrowser"
   ]
  },
  {
   "cell_type": "code",
   "execution_count": 2,
   "id": "e5a80a22",
   "metadata": {},
   "outputs": [],
   "source": [
    "# Call 1st dataset for concat\n",
    "\n",
    "df=pd.read_csv('./Results/3_Markers/Sim_2_9/YS_Itg_0mp.tsv', sep='\\t')\n",
    "df['cluster_id']=0"
   ]
  },
  {
   "cell_type": "code",
   "execution_count": 3,
   "id": "b3a50f52",
   "metadata": {},
   "outputs": [],
   "source": [
    "# Concat other sets\n",
    "\n",
    "for idx in range(1,50):\n",
    "    a = pd.read_csv(f'./Results/3_Markers/Sim_2_9/YS_Itg_{idx}mp.tsv', sep='\\t')\n",
    "    a['cluster_id']=idx\n",
    "    df=pd.concat([df, a])"
   ]
  },
  {
   "cell_type": "code",
   "execution_count": null,
   "id": "0ff03876",
   "metadata": {},
   "outputs": [],
   "source": [
    "df.to_csv('./Results/3_Markers/Sim_2_9/YS_Itg_entire_cluster_mp.tsv', sep='\\t')"
   ]
  },
  {
   "cell_type": "code",
   "execution_count": 26,
   "id": "81dd1adc",
   "metadata": {
    "scrolled": true
   },
   "outputs": [
    {
     "name": "stdout",
     "output_type": "stream",
     "text": [
      "Enter gene name:ID2\n",
      "     Row.names  cluster_id  avg_log2FC.x  pct.1.x  pct.2.x          p_val\n",
      "66         ID2          48      1.471218    0.974    0.727   3.763804e-55\n",
      "152        ID2           2      0.814026    0.827    0.722   0.000000e+00\n",
      "109        ID2          35      0.782751    0.844    0.726   1.210823e-78\n",
      "281        ID2          44      0.761419    0.844    0.727   9.552109e-23\n",
      "116        ID2           4      0.757966    0.801    0.724  8.245004e-250\n",
      "247        ID2           5      0.741961    0.852    0.722   0.000000e+00\n",
      "135        ID2           8      0.671088    0.762    0.725  1.151345e-140\n",
      "213        ID2           7      0.579350    0.811    0.723  4.936595e-212\n",
      "332        ID2          43      0.444486    0.817    0.727   6.451488e-12\n",
      "317        ID2          17      0.437587    0.723    0.727   2.218385e-36\n",
      "1326       ID2          33      0.262936    0.813    0.726   4.972774e-22\n"
     ]
    },
    {
     "data": {
      "text/plain": [
       "True"
      ]
     },
     "execution_count": 26,
     "metadata": {},
     "output_type": "execute_result"
    }
   ],
   "source": [
    "Gene = input('Enter gene name:')\n",
    "\n",
    "a = df[df['Row.names'] == Gene]\n",
    "b = a.sort_values(by=['avg_log2FC.x'], ascending=False)\n",
    "\n",
    "print(b[['Row.names', 'cluster_id', 'avg_log2FC.x', 'pct.1.x', 'pct.2.x', 'p_val']])\n",
    "\n",
    "webbrowser.open_new('https://www.genecards.org/cgi-bin/carddisp.pl?gene={}#summaries'.format(Gene))\n",
    "webbrowser.open_new('http://yikedaxue.slwshop.cn/search.php?quickSearchInfo={}#framekuang'.format(Gene))"
   ]
  },
  {
   "cell_type": "code",
   "execution_count": null,
   "id": "9e42442a",
   "metadata": {
    "scrolled": true
   },
   "outputs": [],
   "source": []
  }
 ],
 "metadata": {
  "kernelspec": {
   "display_name": "Python 3 (ipykernel)",
   "language": "python",
   "name": "python3"
  },
  "language_info": {
   "codemirror_mode": {
    "name": "ipython",
    "version": 3
   },
   "file_extension": ".py",
   "mimetype": "text/x-python",
   "name": "python",
   "nbconvert_exporter": "python",
   "pygments_lexer": "ipython3",
   "version": "3.10.4"
  }
 },
 "nbformat": 4,
 "nbformat_minor": 5
}
