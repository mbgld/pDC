{
 "cells": [
  {
   "cell_type": "code",
   "execution_count": 1,
   "metadata": {},
   "outputs": [],
   "source": [
    "import pandas as pd\n",
    "import numpy as np\n",
    "import csv\n",
    "import webbrowser\n",
    "import re"
   ]
  },
  {
   "cell_type": "code",
   "execution_count": 2,
   "metadata": {},
   "outputs": [
    {
     "data": {
      "text/html": [
       "<div>\n",
       "<style scoped>\n",
       "    .dataframe tbody tr th:only-of-type {\n",
       "        vertical-align: middle;\n",
       "    }\n",
       "\n",
       "    .dataframe tbody tr th {\n",
       "        vertical-align: top;\n",
       "    }\n",
       "\n",
       "    .dataframe thead th {\n",
       "        text-align: right;\n",
       "    }\n",
       "</style>\n",
       "<table border=\"1\" class=\"dataframe\">\n",
       "  <thead>\n",
       "    <tr style=\"text-align: right;\">\n",
       "      <th></th>\n",
       "      <th>Dendrogram Group</th>\n",
       "      <th>Dendrogram Color</th>\n",
       "      <th>Annotation Group</th>\n",
       "      <th>Annotation Color</th>\n",
       "    </tr>\n",
       "  </thead>\n",
       "  <tbody>\n",
       "    <tr>\n",
       "      <th>Case_01_Tu_TGTGGCGAGCACAAAT.1</th>\n",
       "      <td>5</td>\n",
       "      <td>#F0D1E1</td>\n",
       "      <td>1</td>\n",
       "      <td>#8DD3C7</td>\n",
       "    </tr>\n",
       "    <tr>\n",
       "      <th>Case_01_Tu_TGTGAGTAGCCAAGGT.1</th>\n",
       "      <td>5</td>\n",
       "      <td>#F0D1E1</td>\n",
       "      <td>1</td>\n",
       "      <td>#8DD3C7</td>\n",
       "    </tr>\n",
       "    <tr>\n",
       "      <th>Case_01_Tu_TATCTTGGTGATGTAA.1</th>\n",
       "      <td>5</td>\n",
       "      <td>#F0D1E1</td>\n",
       "      <td>1</td>\n",
       "      <td>#8DD3C7</td>\n",
       "    </tr>\n",
       "    <tr>\n",
       "      <th>Case_01_Tu_GTGTCCTAGGAGAGGC.1</th>\n",
       "      <td>5</td>\n",
       "      <td>#F0D1E1</td>\n",
       "      <td>1</td>\n",
       "      <td>#8DD3C7</td>\n",
       "    </tr>\n",
       "    <tr>\n",
       "      <th>Case_01_Tu_GTGCTTCCAATGTTGC.1</th>\n",
       "      <td>5</td>\n",
       "      <td>#F0D1E1</td>\n",
       "      <td>1</td>\n",
       "      <td>#8DD3C7</td>\n",
       "    </tr>\n",
       "  </tbody>\n",
       "</table>\n",
       "</div>"
      ],
      "text/plain": [
       "                               Dendrogram Group Dendrogram Color  \\\n",
       "Case_01_Tu_TGTGGCGAGCACAAAT.1                 5          #F0D1E1   \n",
       "Case_01_Tu_TGTGAGTAGCCAAGGT.1                 5          #F0D1E1   \n",
       "Case_01_Tu_TATCTTGGTGATGTAA.1                 5          #F0D1E1   \n",
       "Case_01_Tu_GTGTCCTAGGAGAGGC.1                 5          #F0D1E1   \n",
       "Case_01_Tu_GTGCTTCCAATGTTGC.1                 5          #F0D1E1   \n",
       "\n",
       "                               Annotation Group Annotation Color  \n",
       "Case_01_Tu_TGTGGCGAGCACAAAT.1                 1          #8DD3C7  \n",
       "Case_01_Tu_TGTGAGTAGCCAAGGT.1                 1          #8DD3C7  \n",
       "Case_01_Tu_TATCTTGGTGATGTAA.1                 1          #8DD3C7  \n",
       "Case_01_Tu_GTGTCCTAGGAGAGGC.1                 1          #8DD3C7  \n",
       "Case_01_Tu_GTGCTTCCAATGTTGC.1                 1          #8DD3C7  "
      ]
     },
     "execution_count": 2,
     "metadata": {},
     "output_type": "execute_result"
    }
   ],
   "source": [
    "HNN_groupings= pd.read_csv('./Results/5_infercnv/New_2/infercnv.19_HMM_predHMMi6.rand_trees.hmm_mode-subclusters.Pnorm_0.5.repr_intensities.observation_groupings.txt', sep = ' ').replace('\"','')\n",
    "HNN_groupings.head()"
   ]
  },
  {
   "cell_type": "code",
   "execution_count": 3,
   "metadata": {
    "scrolled": false
   },
   "outputs": [
    {
     "name": "stdout",
     "output_type": "stream",
     "text": [
      "['#F0D1E1' '#8DD3C7' '#D8C965' '#A9A0B2' '#FFED6F' '#C8C5D3' '#BE91BE']\n"
     ]
    }
   ],
   "source": [
    "colors = HNN_groupings['Dendrogram Color'].unique()\n",
    "print(colors)\n",
    "\n",
    "for i in colors:\n",
    "    webbrowser.open_new('https://www.color-hex.com/color/{}'.format(i.strip(\"#\").lower()))\n",
    "\n",
    "# '#F0D1E1': 연분홍* \n",
    "# '#8DD3C7': 연녹색*\n",
    "# '#D8C965': 겨자색\n",
    "# '#A9A0B2'; 회보라 \n",
    "# '#FFED6F'; 노란색\n",
    "# '#C8C5D3': 회청색\n",
    "# '#BE91BE': 진분홍"
   ]
  },
  {
   "cell_type": "code",
   "execution_count": null,
   "metadata": {},
   "outputs": [],
   "source": [
    "CA_groups= HNN_groupings[(HNN_groupings[\"Dendrogram Color\"] == '#D8C965')|\n",
    "                         (HNN_groupings[\"Dendrogram Color\"] == '#A9A0B2')|\n",
    "                         (HNN_groupings[\"Dendrogram Color\"] == '#FFED6F')|\n",
    "                         (HNN_groupings[\"Dendrogram Color\"] == '#C8C5D3')|\n",
    "                         (HNN_groupings[\"Dendrogram Color\"] == '#BE91BE') ]\n",
    "print(CA_groups.head())"
   ]
  },
  {
   "cell_type": "code",
   "execution_count": null,
   "metadata": {},
   "outputs": [],
   "source": [
    "Case_01_CA_bc = pd.DataFrame(CA_groups.index)\n",
    "Case_01_CA_bc.to_csv('./Results/Case_01_CA.bc',index=False)\n",
    "\n",
    "Case_01_CA_bc.shape"
   ]
  },
  {
   "cell_type": "code",
   "execution_count": null,
   "metadata": {},
   "outputs": [],
   "source": []
  }
 ],
 "metadata": {
  "kernelspec": {
   "display_name": "Python 3",
   "language": "python",
   "name": "python3"
  },
  "language_info": {
   "codemirror_mode": {
    "name": "ipython",
    "version": 3
   },
   "file_extension": ".py",
   "mimetype": "text/x-python",
   "name": "python",
   "nbconvert_exporter": "python",
   "pygments_lexer": "ipython3",
   "version": "3.7.9"
  }
 },
 "nbformat": 4,
 "nbformat_minor": 4
}
