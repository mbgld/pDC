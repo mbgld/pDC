{
 "cells": [
  {
   "cell_type": "markdown",
   "id": "c332cc93",
   "metadata": {},
   "source": [
    "## Set-up"
   ]
  },
  {
   "cell_type": "code",
   "execution_count": 1,
   "id": "af139635",
   "metadata": {},
   "outputs": [],
   "source": [
    "import os\n",
    "import pandas as pd\n",
    "import glob\n",
    "import fnmatch"
   ]
  },
  {
   "cell_type": "markdown",
   "id": "6d1b7931",
   "metadata": {},
   "source": [
    "## TMB 자료가 들어 있는 파일을 불러와 기초 작업한다. "
   ]
  },
  {
   "cell_type": "code",
   "execution_count": 2,
   "id": "a614a312",
   "metadata": {},
   "outputs": [],
   "source": [
    "TMB_Low_list=list(pd.read_csv('../Results/MAF/TCGA_LUAD_Low_TMB.tsv', index_col=None, header=None)[0])\n",
    "TMB_Int_list=list(pd.read_csv('../Results/MAF/TCGA_LUAD_Int_TMB.tsv', index_col=None, header=None)[0])\n",
    "TMB_High_list=list(pd.read_csv('../Results/MAF/TCGA_LUAD_High_TMB.tsv', index_col=None, header=None)[0])"
   ]
  },
  {
   "cell_type": "markdown",
   "id": "130810f4",
   "metadata": {},
   "source": [
    "## TMB Low의 RNASeq dataset을 만든다."
   ]
  },
  {
   "cell_type": "code",
   "execution_count": 3,
   "id": "5de8add3",
   "metadata": {
    "scrolled": true
   },
   "outputs": [
    {
     "data": {
      "text/plain": [
       "'TCGA-49-AARR'"
      ]
     },
     "execution_count": 3,
     "metadata": {},
     "output_type": "execute_result"
    }
   ],
   "source": [
    "TMB_Low_list[0]"
   ]
  },
  {
   "cell_type": "code",
   "execution_count": 4,
   "id": "34b15cfa",
   "metadata": {},
   "outputs": [],
   "source": [
    "# TMB_Low의 0번 자료 ('TTCGA-49-AARR')를 불러와 backbone으로 사용하고 싶다\n",
    "\n",
    "df_TMB_Low=pd.read_csv(glob.glob('../RNASeq/TCGA-49-AARR/*.tsv')[0], sep='\\t', header=1, index_col='gene_id')\n",
    "df_TMB_Low=df_TMB_Low.drop(['N_unmapped','N_multimapping', 'N_noFeature', 'N_ambiguous' ])\n",
    "df_TMB_Low=df_TMB_Low[['gene_name', 'unstranded']]\n",
    "df_TMB_Low=df_TMB_Low.rename(columns={'unstranded': 'TCGA-55-6969'})\n",
    "\n",
    "# 사용된 자료를 list에서 빼 버린다.\n",
    "TMB_Low_list.remove('TCGA-49-AARR')"
   ]
  },
  {
   "cell_type": "code",
   "execution_count": 5,
   "id": "45197165",
   "metadata": {},
   "outputs": [],
   "source": [
    "# TMB_Low의 RNASeq 자료를 순차적으로 이어 붙인다.\n",
    "\n",
    "for idx in TMB_Low_list:\n",
    "    df_B = pd.read_csv(glob.glob(f'../RNASeq/{idx}/*.tsv')[0], sep='\\t', header=1, index_col='gene_id')\n",
    "    df_B = df_B.drop(['N_unmapped','N_multimapping', 'N_noFeature', 'N_ambiguous' ])\n",
    "    df_B=df_B[['unstranded']]\n",
    "    df_B=df_B.rename(columns={'unstranded': f'{idx}'})\n",
    "    df_TMB_Low=pd.merge(df_TMB_Low, df_B, left_index=True, right_index=True)\n",
    "\n",
    "df_TMB_Low.rename(columns=lambda x: x.replace('-', '_'), inplace=True)\n",
    "df_TMB_Low.rename(columns=lambda x: x+\"_Low\", inplace=True)\n",
    "df_TMB_Low=df_TMB_Low.rename(columns={'gene_name_Low': 'gene_name'})"
   ]
  },
  {
   "cell_type": "code",
   "execution_count": 6,
   "id": "a9d1c9c3",
   "metadata": {},
   "outputs": [],
   "source": [
    "df_TMB_Low.to_csv(\"../Results/MAF/TMB_Low_RNASeq.csv\")"
   ]
  },
  {
   "cell_type": "markdown",
   "id": "e9dba43d",
   "metadata": {},
   "source": [
    "## TMB High의 RNASeq dataset을 만든다."
   ]
  },
  {
   "cell_type": "code",
   "execution_count": 7,
   "id": "49981117",
   "metadata": {
    "scrolled": true
   },
   "outputs": [
    {
     "data": {
      "text/plain": [
       "'TCGA-49-AARE'"
      ]
     },
     "execution_count": 7,
     "metadata": {},
     "output_type": "execute_result"
    }
   ],
   "source": [
    "TMB_High_list[0]"
   ]
  },
  {
   "cell_type": "code",
   "execution_count": 8,
   "id": "00c7dbe6",
   "metadata": {},
   "outputs": [],
   "source": [
    "# TMB_High의 0번 자료 ('TCGA-49-AARE)를 불러와 backbone으로 사용하고 싶다\n",
    "\n",
    "df_TMB_High=pd.read_csv(glob.glob('../RNASeq/TCGA-49-AARE/*.tsv')[0], sep='\\t', header=1, index_col='gene_id')\n",
    "df_TMB_High=df_TMB_High.drop(['N_unmapped','N_multimapping', 'N_noFeature', 'N_ambiguous' ])\n",
    "df_TMB_High=df_TMB_High[['gene_name', 'unstranded']]\n",
    "df_TMB_High=df_TMB_High.rename(columns={'unstranded': 'TCGA-49-AARE'})\n",
    "\n",
    "# 사용된 자료를 list에서 빼 버린다.\n",
    "TMB_High_list.remove('TCGA-49-AARE')"
   ]
  },
  {
   "cell_type": "code",
   "execution_count": 9,
   "id": "bfcd2dbf",
   "metadata": {},
   "outputs": [],
   "source": [
    "# TMB_High의 RNASeq 자료를 순차적으로 이어 붙인다.\n",
    "\n",
    "for idx in TMB_High_list:\n",
    "    df_B = pd.read_csv(glob.glob(f'../RNASeq/{idx}/*.tsv')[0], sep='\\t', header=1, index_col='gene_id')\n",
    "    df_B = df_B.drop(['N_unmapped','N_multimapping', 'N_noFeature', 'N_ambiguous' ])\n",
    "    df_B=df_B[['unstranded']]\n",
    "    df_B=df_B.rename(columns={'unstranded': f'{idx}'})\n",
    "    df_TMB_High=pd.merge(df_TMB_High, df_B, left_index=True, right_index=True)\n",
    "\n",
    "df_TMB_High.rename(columns=lambda x: x.replace('-', '_'), inplace=True)\n",
    "df_TMB_High.rename(columns=lambda x: x+\"_High\", inplace=True)\n",
    "df_TMB_High=df_TMB_High.rename(columns={'gene_name_High': 'gene_name'})"
   ]
  },
  {
   "cell_type": "code",
   "execution_count": 10,
   "id": "71723342",
   "metadata": {},
   "outputs": [],
   "source": [
    "df_TMB_High.to_csv(\"../Results/MAF/TMB_High_RNASeq.csv\")"
   ]
  },
  {
   "cell_type": "markdown",
   "id": "45f5fccf",
   "metadata": {},
   "source": [
    "## TMB_Low 와 _High의 DataFrame을 이어 붙인다."
   ]
  },
  {
   "cell_type": "code",
   "execution_count": 11,
   "id": "3e4d90f1",
   "metadata": {},
   "outputs": [],
   "source": [
    "# 우선 공통된 열인 'gene_name' 먼저 없앤다.\n",
    "df_TMB_High=df_TMB_High.drop(['gene_name'], axis=1)\n",
    "\n",
    "# df_TMB_q1와 df_TMB_q3의 dataframe을 합치고 저장한다. \n",
    "RNA_seq_with_TMB = pd.merge(df_TMB_Low, df_TMB_High, left_index=True, right_index=True)\n",
    "\n",
    "RNA_seq_with_TMB.to_csv(\"../Results/MAF/RNA_seq_with_Low_High_TMB.csv\")"
   ]
  },
  {
   "cell_type": "markdown",
   "id": "fcd50e15",
   "metadata": {},
   "source": [
    "## DESeq에서 사용하기 위해 합친 dataframe의 colname을 확보한다."
   ]
  },
  {
   "cell_type": "code",
   "execution_count": 13,
   "id": "5c81dcc0",
   "metadata": {},
   "outputs": [],
   "source": [
    "pd.DataFrame(RNA_seq_with_TMB.columns).to_csv(\"../Results/MAF/Colnames_RNA_seq_with_Low_High_TMB.csv\", header=True, index=False)\n",
    "# 이후에는 파일을 불러서 수작업으로 정리한다. 첫 열의 이름 제거, condition (\"control\", \"High_TMB\"), type('unstranded')"
   ]
  },
  {
   "cell_type": "markdown",
   "id": "b383e0d7",
   "metadata": {},
   "source": [
    "## TMB Intermediate의 RNASeq dataset을 만든다."
   ]
  },
  {
   "cell_type": "code",
   "execution_count": null,
   "id": "6bbf6d12",
   "metadata": {},
   "outputs": [],
   "source": [
    "TMB_Int_list[0]"
   ]
  },
  {
   "cell_type": "code",
   "execution_count": null,
   "id": "b533932f",
   "metadata": {},
   "outputs": [],
   "source": [
    "# TMB_Int의 0번 자료 ('TCGA-05-4417')를 불러와 backbone으로 사용하고 싶다\n",
    "\n",
    "df_TMB_Int=pd.read_csv(glob.glob('../RNASeq/TCGA-05-4417/*.tsv')[0], sep='\\t', header=1, index_col='gene_id')\n",
    "df_TMB_Int=df_TMB_Int.drop(['N_unmapped','N_multimapping', 'N_noFeature', 'N_ambiguous' ])\n",
    "df_TMB_Int=df_TMB_Int[['gene_name', 'unstranded']]\n",
    "df_TMB_Int=df_TMB_Int.rename(columns={'unstranded': 'TCGA-05-4417'})\n",
    "\n",
    "# 사용된 자료를 list에서 빼 버린다.\n",
    "TMB_Int_list.remove('TCGA-05-4417')"
   ]
  },
  {
   "cell_type": "code",
   "execution_count": null,
   "id": "787f0acd",
   "metadata": {},
   "outputs": [],
   "source": [
    "# TMB_Int의 RNASeq 자료를 순차적으로 이어 붙인다.\n",
    "\n",
    "for idx in TMB_Int_list:\n",
    "    df_B = pd.read_csv(glob.glob(f'../RNASeq/{idx}/*.tsv')[0], sep='\\t', header=1, index_col='gene_id')\n",
    "    df_B = df_B.drop(['N_unmapped','N_multimapping', 'N_noFeature', 'N_ambiguous' ])\n",
    "    df_B=df_B[['unstranded']]\n",
    "    df_B=df_B.rename(columns={'unstranded': f'{idx}'})\n",
    "    df_TMB_Int=pd.merge(df_TMB_Int, df_B, left_index=True, right_index=True)\n",
    "\n",
    "df_TMB_Int.rename(columns=lambda x: x.replace('-', '_'), inplace=True)\n",
    "df_TMB_Int.rename(columns=lambda x: x+\"_Int\", inplace=True)\n",
    "df_TMB_Int=df_TMB_Int.rename(columns={'gene_name_Int': 'gene_name'})"
   ]
  },
  {
   "cell_type": "code",
   "execution_count": null,
   "id": "a6f05957",
   "metadata": {},
   "outputs": [],
   "source": [
    "df_TMB_Int.to_csv(\"../Results/MAF/TMB_Int_RNASeq.csv\")"
   ]
  },
  {
   "cell_type": "markdown",
   "id": "5df1e352",
   "metadata": {},
   "source": [
    "## TMB_Low, _Int and _High의 DataFrame을 이어 붙인다."
   ]
  },
  {
   "cell_type": "code",
   "execution_count": null,
   "id": "62b1aff2",
   "metadata": {},
   "outputs": [],
   "source": [
    "# 우선 공통된 열인 'gene_name' 먼저 없앤다.\n",
    "df_TMB_Int=df_TMB_Int.drop(['gene_name'], axis=1)\n",
    "df_TMB_High=df_TMB_High.drop(['gene_name'], axis=1)\n",
    "\n",
    "# df_TMB_q1와 df_TMB_q3의 dataframe을 합치고 저장한다. \n",
    "RNA_seq_with_TMB = pd.merge(df_TMB_Low, df_TMB_Int, left_index=True, right_index=True)\n",
    "RNA_seq_with_TMB = pd.merge(RNA_seq_with_TMB, df_TMB_High, left_index=True, right_index=True)\n",
    "\n",
    "RNA_seq_with_TMB.to_csv(\"../Results/MAF/RNA_seq_with_TMB.csv\")"
   ]
  },
  {
   "cell_type": "markdown",
   "id": "7055f069",
   "metadata": {},
   "source": [
    "## DESeq에서 사용하기 위해 합친 dataframe의 colname을 확보한다."
   ]
  },
  {
   "cell_type": "code",
   "execution_count": null,
   "id": "893bc45e",
   "metadata": {},
   "outputs": [],
   "source": [
    "pd.DataFrame(RNA_seq_with_TMB.columns).to_csv(\"../Results/MAF/Colnames_RNA_seq_with_TMB.csv\", header=True, index=False)\n",
    "# 이후에는 파일을 불러서 수작업으로 정리한다. 첫 열의 이름 제거, condition (\"control\", \"High_TMB\"), type('unstranded')"
   ]
  },
  {
   "cell_type": "code",
   "execution_count": null,
   "id": "3303bacc",
   "metadata": {},
   "outputs": [],
   "source": []
  }
 ],
 "metadata": {
  "kernelspec": {
   "display_name": "Python 3 (ipykernel)",
   "language": "python",
   "name": "python3"
  },
  "language_info": {
   "codemirror_mode": {
    "name": "ipython",
    "version": 3
   },
   "file_extension": ".py",
   "mimetype": "text/x-python",
   "name": "python",
   "nbconvert_exporter": "python",
   "pygments_lexer": "ipython3",
   "version": "3.8.10"
  }
 },
 "nbformat": 4,
 "nbformat_minor": 5
}
