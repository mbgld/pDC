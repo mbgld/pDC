{
 "cells": [
  {
   "cell_type": "markdown",
   "id": "a84c76de",
   "metadata": {},
   "source": [
    "# Generate MAF files by Concat"
   ]
  },
  {
   "cell_type": "code",
   "execution_count": 1,
   "id": "2ca5db2e",
   "metadata": {},
   "outputs": [],
   "source": [
    "import os\n",
    "import pandas as pd"
   ]
  },
  {
   "cell_type": "markdown",
   "id": "cf736605",
   "metadata": {},
   "source": [
    "### 1. Get folder list"
   ]
  },
  {
   "cell_type": "code",
   "execution_count": 2,
   "id": "042a7f7a",
   "metadata": {},
   "outputs": [],
   "source": [
    "folder_lists = os.listdir('./MAF/')"
   ]
  },
  {
   "cell_type": "markdown",
   "id": "ae9bb940",
   "metadata": {},
   "source": [
    "### 2. Generate backbone dataframe using 1st set and remove its name in the folder list"
   ]
  },
  {
   "cell_type": "code",
   "execution_count": 3,
   "id": "3e550bc5",
   "metadata": {},
   "outputs": [],
   "source": [
    "col = [x for x in range(0, 139)]\n",
    "Maf_files=pd.read_csv('./MAF/'+folder_lists[0]+'/'+os.listdir('./MAF/'+folder_lists[0])[0],\n",
    "                    header=7, usecols=col, sep='\\t')\n",
    "del folder_lists[0]"
   ]
  },
  {
   "cell_type": "markdown",
   "id": "0a77bea1",
   "metadata": {},
   "source": [
    "## 3. Iterate folders using for loops"
   ]
  },
  {
   "cell_type": "code",
   "execution_count": 4,
   "id": "25bba86a",
   "metadata": {},
   "outputs": [],
   "source": [
    "# '.wxs.aliquot_ensemble_masked.maf.gz'로 끝나는 파일을 찾아 이어 붙인다. \n",
    "for folder in folder_lists:\n",
    "    f_names=os.listdir('./MAF/'+folder+'/')\n",
    "    for f_name in f_names:\n",
    "        if f_name.endswith('.wxs.aliquot_ensemble_masked.maf.gz'):\n",
    "            df_a= pd.read_csv('./MAF/'+folder+'/'+f_name, header=7, usecols=col, sep='\\t')\n",
    "            Maf_files=pd.concat([Maf_files, df_a])"
   ]
  },
  {
   "cell_type": "markdown",
   "id": "9cd98b43",
   "metadata": {},
   "source": [
    "### 4. Save files"
   ]
  },
  {
   "cell_type": "code",
   "execution_count": null,
   "id": "1ea5dab9",
   "metadata": {},
   "outputs": [],
   "source": [
    "Maf_files.to_csv('./Maf_files.tsv', sep='\\t', header=True, index=False)"
   ]
  }
 ],
 "metadata": {
  "kernelspec": {
   "display_name": "Python 3 (ipykernel)",
   "language": "python",
   "name": "python3"
  },
  "language_info": {
   "codemirror_mode": {
    "name": "ipython",
    "version": 3
   },
   "file_extension": ".py",
   "mimetype": "text/x-python",
   "name": "python",
   "nbconvert_exporter": "python",
   "pygments_lexer": "ipython3",
   "version": "3.8.10"
  }
 },
 "nbformat": 4,
 "nbformat_minor": 5
}
